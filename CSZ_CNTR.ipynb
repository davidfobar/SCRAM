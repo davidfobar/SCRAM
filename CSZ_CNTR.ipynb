{
 "cells": [
  {
   "cell_type": "code",
   "execution_count": 3,
   "metadata": {},
   "outputs": [],
   "source": [
    "import minimalmodbus\n",
    "import serial\n",
    "\n",
    "instrument = minimalmodbus.Instrument('COM12', 1) # port name, slave address (in decimal)\n",
    "instrument.serial.baudrate = 9600   # Baud\n",
    "instrument.serial.parity   = serial.PARITY_ODD\n",
    "\n",
    "#modbus seems to have an unreliable connection, so write a wrapper for the read and write functions that loops until the read or write is successful, handle the exception if the read or write is not successful\n",
    "def read_register(address, number_of_decimals):\n",
    "    while True:\n",
    "        try:\n",
    "            return instrument.read_register(address, number_of_decimals)\n",
    "        except:\n",
    "            pass\n",
    "\n",
    "def write_register(address, value, number_of_decimals):\n",
    "    while True:\n",
    "        try:\n",
    "            instrument.write_register(address, value, number_of_decimals)\n",
    "            break\n",
    "        except:\n",
    "            pass\n",
    "        \n",
    "def setTemperature(temperature):\n",
    "    write_register(0x24, temperature, 1)\n",
    "\n",
    "def getTemperatureSP():\n",
    "    return read_register(0x24, 1)\n",
    "\n",
    "def getTemperature():\n",
    "    return read_register(0x23, 1)\n",
    "\n",
    "def setHumidity(humidity):\n",
    "    write_register(0x29, humidity, 1)\n",
    "\n",
    "def getHumiditySP():\n",
    "    return read_register(0x29, 1)\n",
    "\n",
    "def getHumidity():\n",
    "    return read_register(0x28, 1)\n",
    "\n",
    "def enableManualOverride():\n",
    "    write_register(0x09, 0x30, 0)\n",
    "\n",
    "def startProgram():\n",
    "    write_register(0x0E, 0x01, 0)"
   ]
  },
  {
   "cell_type": "code",
   "execution_count": 4,
   "metadata": {},
   "outputs": [
    {
     "name": "stdout",
     "output_type": "stream",
     "text": [
      "confirm 12\n",
      "temp 21.1\n",
      "confirm 0\n",
      "humidity 0\n"
     ]
    }
   ],
   "source": [
    "from time import sleep\n",
    "\n",
    "#enable manual override by writing to register 0x0009\n",
    "enableManualOverride()\n",
    "sleep(1)\n",
    "\n",
    "#set the temp to 10 degrees by writing to register 0x0024\n",
    "setTemperature(12.00)\n",
    "sleep(1)\n",
    "confirm = getTemperatureSP()\n",
    "print('confirm', confirm)\n",
    "temp = getTemperature()\n",
    "print('temp', temp)\n",
    "\n",
    "#set the humidity to 0% by writing to register 0x0029\n",
    "setHumidity(0)\n",
    "sleep(1)\n",
    "confirm = getHumiditySP()\n",
    "print('confirm', confirm)\n",
    "humidity = getHumidity()\n",
    "print('humidity', humidity)\n",
    "\n",
    "sleep(1)\n",
    "\n",
    "#start the program by writing to register 0x000E\n",
    "startProgram()"
   ]
  },
  {
   "cell_type": "code",
   "execution_count": null,
   "metadata": {},
   "outputs": [],
   "source": [
    "#loop until the temperature is at the current SP, and then adjust the temperature to 15 degrees. loop every 5 seconds\n",
    "tempSP = getTemperatureSP()\n",
    "while True:\n",
    "    temp = getTemperature()\n",
    "    if temp == tempSP:\n",
    "        break\n",
    "    sleep(5)\n",
    "\n",
    "#adjust the temperature to 15 degrees\n",
    "setTemperature(15)"
   ]
  }
 ],
 "metadata": {
  "kernelspec": {
   "display_name": "Python 3",
   "language": "python",
   "name": "python3"
  },
  "language_info": {
   "codemirror_mode": {
    "name": "ipython",
    "version": 3
   },
   "file_extension": ".py",
   "mimetype": "text/x-python",
   "name": "python",
   "nbconvert_exporter": "python",
   "pygments_lexer": "ipython3",
   "version": "3.9.16"
  }
 },
 "nbformat": 4,
 "nbformat_minor": 2
}
