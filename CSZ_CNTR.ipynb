{
 "cells": [
  {
   "cell_type": "code",
   "execution_count": 4,
   "metadata": {},
   "outputs": [
    {
     "name": "stdout",
     "output_type": "stream",
     "text": [
      "temperature setpoint:  30.4\n",
      "temperature:  26.8\n",
      "humidity setpoint:  11.0\n",
      "humidity:  28.8\n"
     ]
    },
    {
     "data": {
      "text/plain": [
       "True"
      ]
     },
     "execution_count": 4,
     "metadata": {},
     "output_type": "execute_result"
    }
   ],
   "source": [
    "from pyModbusTCP.client import ModbusClient\n",
    "from time import sleep\n",
    "\n",
    "c = ModbusClient(host=\"169.254.112.221\", port=502, auto_open=True)\n",
    "\n",
    "#this is a list of relative addresses for the registers\n",
    "PROCESS = 0x0F\n",
    "TEMP_SP = 0x24 #temperature setpoint\n",
    "TEMP = 0x23 #temperature\n",
    "HUM_SP = 0x29 #humidity setpoint\n",
    "HUM = 0x28 #humidity\n",
    "MANUAL_OVERRIDE = 0x09 #manual override\n",
    "#this manualStart() function does turn on but makes the SPs change rapidly. \n",
    "def manualStart():\n",
    "    return c.write_single_register(PROCESS, 2)\n",
    "\n",
    "def setTemperatureSP(temperature):\n",
    "    #write as an unsigned integer, and multiply by 10 to store the decimal place\n",
    "    temperature = int(temperature*10)\n",
    "    if temperature < 0:\n",
    "        #use two's complement to represent negative numbers\n",
    "        temperature = 0xFFFF + temperature + 1\n",
    "    return c.write_single_register(TEMP_SP, int(temperature))\n",
    "\n",
    "def getTemperatureSP():\n",
    "    temperature = c.read_holding_registers(TEMP_SP, 1)[0]\n",
    "    if temperature > 0x7FFF:\n",
    "        #use two's complement to represent negative numbers\n",
    "        temperature = 0xFFFF - temperature + 1\n",
    "        temperature = -temperature\n",
    "    return temperature/10\n",
    "\n",
    "def getTemperature():\n",
    "    temperature = c.read_holding_registers(TEMP, 1)[0]\n",
    "    if temperature > 0x7FFF:\n",
    "        #use two's complement to represent negative numbers\n",
    "        temperature = 0xFFFF - temperature + 1\n",
    "        temperature = -temperature\n",
    "    return temperature/10\n",
    "\n",
    "def setHumiditySP(humidity):\n",
    "    #ensure humidity is between 0 and 100\n",
    "    if humidity < 0:\n",
    "        humidity = 0\n",
    "    elif humidity > 100:\n",
    "        humidity = 100\n",
    "    humidity = int(humidity*10)\n",
    "\n",
    "    return c.write_single_register(HUM_SP, int(humidity))\n",
    "\n",
    "def getHumiditySP():\n",
    "    humidity = c.read_holding_registers(HUM_SP, 1)[0]\n",
    "    return humidity/10\n",
    "\n",
    "def getHumidity():\n",
    "    humidity = c.read_holding_registers(HUM, 1)[0]\n",
    "    return humidity/10\n",
    "  \n",
    "\n",
    "\n",
    "setTemperatureSP(-25)\n",
    "print('temperature setpoint: ', getTemperatureSP())\n",
    "print('temperature: ', getTemperature())\n",
    "\n",
    "setHumiditySP(11)\n",
    "print('humidity setpoint: ', getHumiditySP())\n",
    "print('humidity: ', getHumidity())\n",
    "\n",
    "manualStart()"
   ]
  }
 ],
 "metadata": {
  "kernelspec": {
   "display_name": "Python 3",
   "language": "python",
   "name": "python3"
  },
  "language_info": {
   "codemirror_mode": {
    "name": "ipython",
    "version": 3
   },
   "file_extension": ".py",
   "mimetype": "text/x-python",
   "name": "python",
   "nbconvert_exporter": "python",
   "pygments_lexer": "ipython3",
   "version": "3.11.7"
  }
 },
 "nbformat": 4,
 "nbformat_minor": 2
}
