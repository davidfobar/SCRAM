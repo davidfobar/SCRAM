{
 "cells": [
  {
   "cell_type": "code",
   "execution_count": 174,
   "metadata": {},
   "outputs": [],
   "source": [
    "import serial \n",
    "import struct\n",
    "\n",
    "RETURN_TEMP   = 0x01\n",
    "RETURN_SAMPLE = 0x02\n",
    "RETURN_HELLO  = 0x03\n",
    "SET_BIAS = 0x04\n",
    "default = 0x04\n",
    "\n",
    "serialport = '/dev/ttyUSB0'\n",
    "serialport = '/dev/ttyACM0'"
   ]
  },
  {
   "cell_type": "code",
   "execution_count": 257,
   "metadata": {},
   "outputs": [
    {
     "name": "stdout",
     "output_type": "stream",
     "text": [
      "SiPM_Temp: 1016.0\n",
      "SiPM_Signal: 86.56\n"
     ]
    }
   ],
   "source": [
    "# Open serial port\n",
    "with serial.Serial(serialport, 115200, timeout=10) as ser:\n",
    "  #send hex command and then print the result\n",
    "  ser.write(bytes([RETURN_SAMPLE, 0x00]))\n",
    "  data = ser.read(8)\n",
    "  if len(data) == 8:\n",
    "    int1, int2 = struct.unpack('>ii', data)\n",
    "    SiPM_Temp = int1 / 100.0\n",
    "    SiPM_Signal = int2 / 100.0\n",
    "    print(\"SiPM_Temp:\", SiPM_Temp)\n",
    "    print(\"SiPM_Signal:\", SiPM_Signal)\n",
    "  else:\n",
    "    print('error')"
   ]
  },
  {
   "cell_type": "code",
   "execution_count": 242,
   "metadata": {},
   "outputs": [
    {
     "name": "stdout",
     "output_type": "stream",
     "text": [
      "b'hi\\r\\n'\n"
     ]
    }
   ],
   "source": [
    "# Open serial port\n",
    "with serial.Serial(serialport, 115200, timeout=1) as ser:\n",
    "  #send hex command and then print the result\n",
    "  ser.write(bytes([RETURN_HELLO, 0x00]))\n",
    "  data = ser.read(8)\n",
    "  print(data)"
   ]
  },
  {
   "cell_type": "code",
   "execution_count": 246,
   "metadata": {},
   "outputs": [
    {
     "name": "stdout",
     "output_type": "stream",
     "text": [
      "b'_OK\\r\\n'\n"
     ]
    }
   ],
   "source": [
    "# Open serial port\n",
    "with serial.Serial(serialport, 115200, timeout=0.5) as ser:\n",
    "  #send hex command and then print the result\n",
    "  ser.write(bytes([SET_BIAS, 0x0f]))\n",
    "  data = ser.read(8)\n",
    "  print(data)"
   ]
  }
 ],
 "metadata": {
  "kernelspec": {
   "display_name": "Python 3",
   "language": "python",
   "name": "python3"
  },
  "language_info": {
   "codemirror_mode": {
    "name": "ipython",
    "version": 3
   },
   "file_extension": ".py",
   "mimetype": "text/x-python",
   "name": "python",
   "nbconvert_exporter": "python",
   "pygments_lexer": "ipython3",
   "version": "3.10.12"
  }
 },
 "nbformat": 4,
 "nbformat_minor": 2
}
