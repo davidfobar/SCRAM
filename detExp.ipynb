{
 "cells": [
  {
   "cell_type": "code",
   "execution_count": 19,
   "metadata": {},
   "outputs": [],
   "source": [
    "import serial \n",
    "import struct\n",
    "import time\n",
    "\n",
    "RETURN_TEMP   = 0x01\n",
    "RETURN_SAMPLE = 0x02\n",
    "RETURN_HELLO  = 0x03\n",
    "SET_BIAS      = 0x04\n",
    "RETURN_BATT   = 0x05\n",
    "TOGGLE_RED    = 0x06\n",
    "\n",
    "serialport = '/dev/ttyUSB0' #if using the dev board\n",
    "serialport = '/dev/ttyACM0' #if using the v0.1 board\n",
    "\n",
    "serialport = 'COM4'\n",
    "\n",
    "def getFloatValue(ser, cmd):\n",
    "    assert(cmd == RETURN_TEMP or cmd == RETURN_SAMPLE or cmd == RETURN_BATT)\n",
    "    ser.write(bytes([cmd, 0x00]))\n",
    "    data = ser.read(4)\n",
    "    return struct.unpack('>i', data)[0]/100\n",
    "\n",
    "def testConnection(ser):\n",
    "    ser.write(bytes([RETURN_HELLO, 0x00]))\n",
    "    data = ser.read(8)\n",
    "    return data.strip().decode('utf-8') \n",
    "\n",
    "def setBias(ser, bias):\n",
    "    assert(bias >= 0 and bias <= 255)\n",
    "    ser.write(bytes([SET_BIAS, bias]))\n",
    "    data = ser.read(8)\n",
    "    return data.strip().decode('utf-8') "
   ]
  },
  {
   "cell_type": "code",
   "execution_count": 5,
   "metadata": {},
   "outputs": [
    {
     "name": "stdout",
     "output_type": "stream",
     "text": [
      "461s058:\n",
      "19370069.62\n",
      "19530665.99\n",
      "5423984.96\n",
      "19530663.41\n",
      "19134572.04\n",
      "9092104.16\n",
      "9260386.14\n",
      "11453238.34\n",
      "5401613.32\n",
      "2187725.34\n"
     ]
    }
   ],
   "source": [
    "with serial.Serial(serialport, 115200, timeout=2) as ser:\n",
    "  print(testConnection(ser))\n",
    "\n",
    "  #loop to get batt voltage with 100ms delay\n",
    "  for i in range(10):\n",
    "    print(getFloatValue(ser, RETURN_BATT))\n",
    "    time.sleep(0.1)\n",
    "  "
   ]
  },
  {
   "cell_type": "code",
   "execution_count": 21,
   "metadata": {},
   "outputs": [
    {
     "name": "stdout",
     "output_type": "stream",
     "text": [
      "hi\n",
      "25.7\n",
      "OK\n",
      "3206.43\n",
      "OK\n",
      "5.19\n"
     ]
    }
   ],
   "source": [
    "with serial.Serial(serialport, 115200, timeout=2) as ser:\n",
    "  #read the temperature in C, set the bias, and read the sipm, return bias to 0\n",
    "  print(testConnection(ser))\n",
    "  print(getFloatValue(ser, RETURN_TEMP))\n",
    "  print(setBias(ser, 0x01))\n",
    "  print(getFloatValue(ser, RETURN_SAMPLE))\n",
    "  print(setBias(ser, 0))\n",
    "  print(getFloatValue(ser, RETURN_BATT))"
   ]
  },
  {
   "cell_type": "code",
   "execution_count": 6,
   "metadata": {},
   "outputs": [],
   "source": [
    "with serial.Serial(serialport, 115200, timeout=2) as ser:\n",
    "  ser.write(bytes([TOGGLE_RED, 0x00]))"
   ]
  }
 ],
 "metadata": {
  "kernelspec": {
   "display_name": "Python 3",
   "language": "python",
   "name": "python3"
  },
  "language_info": {
   "codemirror_mode": {
    "name": "ipython",
    "version": 3
   },
   "file_extension": ".py",
   "mimetype": "text/x-python",
   "name": "python",
   "nbconvert_exporter": "python",
   "pygments_lexer": "ipython3",
   "version": "3.11.7"
  }
 },
 "nbformat": 4,
 "nbformat_minor": 2
}
