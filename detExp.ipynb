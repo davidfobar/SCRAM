{
 "cells": [
  {
   "cell_type": "code",
   "execution_count": 8,
   "metadata": {},
   "outputs": [],
   "source": [
    "import serial \n",
    "import struct\n",
    "import time\n",
    "\n",
    "RETURN_TEMP   = 0x01\n",
    "RETURN_SAMPLE = 0x02\n",
    "RETURN_HELLO  = 0x03\n",
    "SET_BIAS      = 0x04\n",
    "RETURN_BATT   = 0x05\n",
    "TOGGLE_RED    = 0x06\n",
    "\n",
    "det_serialport = '/dev/ttyACM0' #if using the v0.1 board\n",
    "xray_serialport = '/dev/ttyUSB0'\n",
    "\n",
    "def getFloatValue(ser, cmd):\n",
    "    assert(cmd == RETURN_TEMP or cmd == RETURN_SAMPLE or cmd == RETURN_BATT)\n",
    "    ser.write(bytes([cmd, 0x00]))\n",
    "    data = ser.read(4)\n",
    "    return struct.unpack('>i', data)[0]/100\n",
    "\n",
    "def testConnection(ser):\n",
    "    ser.write(bytes([RETURN_HELLO, 0x00]))\n",
    "    data = ser.read(8)\n",
    "    return data.strip().decode('utf-8') \n",
    "\n",
    "def setBias(ser, bias):\n",
    "    assert(bias >= 0 and bias <= 255)\n",
    "    ser.write(bytes([SET_BIAS, bias]))\n",
    "    data = ser.read(8)\n",
    "    return data.strip().decode('utf-8') "
   ]
  },
  {
   "cell_type": "code",
   "execution_count": 5,
   "metadata": {},
   "outputs": [
    {
     "name": "stdout",
     "output_type": "stream",
     "text": [
      "461s058:\n",
      "19370069.62\n",
      "19530665.99\n",
      "5423984.96\n",
      "19530663.41\n",
      "19134572.04\n",
      "9092104.16\n",
      "9260386.14\n",
      "11453238.34\n",
      "5401613.32\n",
      "2187725.34\n"
     ]
    }
   ],
   "source": [
    "with serial.Serial(det_serialport, 115200, timeout=2) as ser:\n",
    "  print(testConnection(ser))\n",
    "  \n",
    "  #loop to get batt voltage with 100ms delay\n",
    "  for i in range(10):\n",
    "    print(getFloatValue(ser, RETURN_BATT))\n",
    "    time.sleep(0.1)\n",
    "  "
   ]
  },
  {
   "cell_type": "code",
   "execution_count": 13,
   "metadata": {},
   "outputs": [
    {
     "name": "stdout",
     "output_type": "stream",
     "text": [
      "hi\n",
      "-12.39\n",
      "OK\n",
      "1442.18\n",
      "OK\n",
      "5.19\n"
     ]
    }
   ],
   "source": [
    "with serial.Serial(det_serialport, 115200, timeout=2) as ser:\n",
    "  #read the temperature in C, set the bias, and read the sipm, return bias to 0\n",
    "  print(testConnection(ser))\n",
    "  print(getFloatValue(ser, RETURN_TEMP))\n",
    "  print(setBias(ser, 0x01))\n",
    "  print(getFloatValue(ser, RETURN_SAMPLE))\n",
    "  print(setBias(ser, 0))\n",
    "  print(getFloatValue(ser, RETURN_BATT))"
   ]
  },
  {
   "cell_type": "code",
   "execution_count": 6,
   "metadata": {},
   "outputs": [],
   "source": [
    "with serial.Serial(det_serialport, 115200, timeout=2) as ser:\n",
    "  ser.write(bytes([TOGGLE_RED, 0x00]))"
   ]
  },
  {
   "cell_type": "code",
   "execution_count": 10,
   "metadata": {},
   "outputs": [
    {
     "name": "stdout",
     "output_type": "stream",
     "text": [
      "b'!ERR|0 - Invalid command\\n'\n",
      "b'!VER|2.12\\n'\n",
      "b'!PLSCNT|100\\n'\n",
      "b'!MSG|Firing X-Ray\\n'\n"
     ]
    }
   ],
   "source": [
    "xray_serialport = '/dev/ttyUSB0'\n",
    "from serial import Serial\n",
    "import time\n",
    "\n",
    "from XRS4_driver import XRS4\n",
    "with Serial(xray_serialport, 57600, timeout=1) as xray_ser:\n",
    "    xray = XRS4(xray_ser)\n",
    "    xray.set_pulse_count(100)\n",
    "    xray.fire_xray()\n"
   ]
  },
  {
   "cell_type": "code",
   "execution_count": 14,
   "metadata": {},
   "outputs": [
    {
     "name": "stdout",
     "output_type": "stream",
     "text": [
      "b'!PID|837|11916|4\\n'\n",
      "b'!VER|2.12\\n'\n",
      "set temp -10\n",
      "temp is less than 5\n",
      " set dose 1\n",
      "b'!PLSCNT|1\\n'\n",
      "b'!MSG|Firing X-Ray\\n'\n",
      "b'!PULSE|1\\n'\n",
      " set dose 6\n",
      "b'!MSG|Firing X-Ray\\n'\n",
      "b'!PULSE|1\\n'\n",
      "b'!PLSCNT|6\\n'\n",
      "set temp 0\n",
      "temp is less than 5\n",
      " set dose 1\n",
      "b'!MSG|Firing X-Ray\\n'\n",
      "b'!PULSE|6\\n'\n",
      "b'!MSG|Firing X-Ray\\n'\n",
      " set dose 6\n",
      "b'!PULSE|6\\n'\n",
      "b'!PLSCNT|1\\n'\n",
      "b'!MSG|Firing X-Ray\\n'\n",
      "set temp 10\n",
      "temp is between 5 and 20\n"
     ]
    },
    {
     "ename": "KeyboardInterrupt",
     "evalue": "",
     "output_type": "error",
     "traceback": [
      "\u001b[0;31m---------------------------------------------------------------------------\u001b[0m",
      "\u001b[0;31mKeyboardInterrupt\u001b[0m                         Traceback (most recent call last)",
      "Cell \u001b[0;32mIn[14], line 48\u001b[0m\n\u001b[1;32m     46\u001b[0m     tempChamber\u001b[38;5;241m.\u001b[39msetTemperatureSP(temp)\n\u001b[1;32m     47\u001b[0m     \u001b[38;5;28;01mwhile\u001b[39;00m temp \u001b[38;5;241m!=\u001b[39m getFloatValue(det_ser, RETURN_TEMP):\n\u001b[0;32m---> 48\u001b[0m         \u001b[43mtime\u001b[49m\u001b[38;5;241;43m.\u001b[39;49m\u001b[43msleep\u001b[49m\u001b[43m(\u001b[49m\u001b[38;5;241;43m5\u001b[39;49m\u001b[43m)\u001b[49m \u001b[38;5;66;03m#wait 5 seconds\u001b[39;00m\n\u001b[1;32m     49\u001b[0m     tempChamber\u001b[38;5;241m.\u001b[39msetTemperatureSP(getFloatValue(det_ser,RETURN_TEMP))\n\u001b[1;32m     50\u001b[0m \u001b[38;5;28;01melif\u001b[39;00m temp \u001b[38;5;241m>\u001b[39m\u001b[38;5;241m=\u001b[39m \u001b[38;5;241m20\u001b[39m: \n",
      "\u001b[0;31mKeyboardInterrupt\u001b[0m: "
     ]
    }
   ],
   "source": [
    "import numpy as np\n",
    "from serial import Serial\n",
    "from datetime import datetime\n",
    "\n",
    "from CZT import CZT\n",
    "from XRS4_driver import XRS4\n",
    "\n",
    "xray_serialport = '/dev/ttyUSB0'\n",
    "det_serialport = '/dev/ttyACM0'\n",
    "\n",
    "tempChamber = CZT()\n",
    "\n",
    "timestamp = datetime.now()\n",
    "\"\"\"\n",
    "Min_temp = -10\n",
    "Max_temp = 21\n",
    "Step_Temp = 10\n",
    "Min_dose = 1\n",
    "Max_dose = 11\n",
    "Step_dose = 5\n",
    "Min_bias = 5\n",
    "Max_bias = 11\n",
    "Step_bias = 5\n",
    "\"\"\"\n",
    "\n",
    "Temp_Range = [-10, -5, 0, 5, 10, 15, 20, 25, 30, 35 ]\n",
    "Dose_Range = [1, 5, 10, 15]\n",
    "Bias_Range = [5, 10, 15, 20, 25, 50]\n",
    "temp_record = []\n",
    "\n",
    "\n",
    "data = np.zeros( (len(Temp_Range), len(Dose_Range), len(Bias_Range)) )\n",
    "\n",
    "with Serial(xray_serialport, 57600, timeout=1) as xray_ser:\n",
    "    xray = XRS4(xray_ser)\n",
    "    with Serial(det_serialport, 115200, timeout=2) as det_ser:\n",
    "        for i, setTemp in enumerate(Temp_Range):\n",
    "            print(f'set temp {setTemp}')\n",
    "            curTemp = getFloatValue(det_ser, RETURN_TEMP)\n",
    "            diff = setTemp*0.05\n",
    "            while curTemp > setTemp+diff or curTemp < setTemp-diff:\n",
    "                curTemp = getFloatValue(det_ser, RETURN_TEMP)\n",
    "                time.sleep(5)\n",
    "                print(\"  Current temperature is:\", curTemp, datetime.now())\n",
    "            #setting the temperature\n",
    "            #if temp <= 5:\n",
    "                #print(\"temp is less than 5\")\n",
    "                #tempChamber.setTemperatureSP(temp-10)\n",
    "                #wait for temp at SiPM\n",
    "                #while temp < getFloatValue(det_ser, RETURN_TEMP):\n",
    "                   # time.sleep(5) #wait 5 seconds\n",
    "                #tempChamber.setTemperatureSP(getFloatValue(det_ser,RETURN_TEMP))\n",
    "            #elif temp > 5 and temp < 20:\n",
    "                #print(\"temp is between 5 and 20\")\n",
    "                #tempChamber.setTemperatureSP(temp)\n",
    "                #while temp != getFloatValue(det_ser, RETURN_TEMP):\n",
    "                    #time.sleep(5) #wait 5 seconds\n",
    "                #tempChamber.setTemperatureSP(getFloatValue(det_ser,RETURN_TEMP))\n",
    "            #elif temp >= 20: \n",
    "                #print(\"temp is greater than 20\")\n",
    "                #tempChamber.setTemperatureSP(temp+5)\n",
    "                #while temp != getFloatValue(det_ser, RETURN_TEMP):\n",
    "                    #time.sleep(5) #wait 5 seconds\n",
    "                #tempChamber.setTemperatureSP(getFloatValue(det_ser,RETURN_TEMP))\n",
    "\n",
    "            for j, dose in enumerate(Dose_Range):\n",
    "                print(f'   set dose {dose}')\n",
    "                xray.set_pulse_count(dose)\n",
    "                for k, bias in enumerate(Bias_Range):\n",
    "                    #measure\n",
    "                    xray.fire_xray()\n",
    "                    setBias(det_ser, bias)\n",
    "                    data[i,j,k] = getFloatValue(det_ser, RETURN_SAMPLE)\n",
    "                    temp_record.append((setTemp, dose, bias, getFloatValue(det_ser, RETURN_TEMP)))\n",
    "                    setBias(det_ser, 0)\n",
    "                    print(f'    measure bias {bias}')\n",
    "                \n",
    "\n",
    "with open(f'data_{timestamp}') as outfile:\n",
    "    np.save(outfile, data)\n",
    "\n",
    "with open(f'temp_record_{timestamp}') as outfile: \n",
    "    np.save(outfile, np.array(temp_record))\n",
    "\n",
    "print(f' file saved to {outfile}.npy')"
   ]
  },
  {
   "cell_type": "code",
   "execution_count": 2,
   "metadata": {},
   "outputs": [],
   "source": [
    "import numpy as np\n",
    "testdata = np.load(\"./some unique file name.npy\")"
   ]
  }
 ],
 "metadata": {
  "kernelspec": {
   "display_name": "Python 3",
   "language": "python",
   "name": "python3"
  },
  "language_info": {
   "codemirror_mode": {
    "name": "ipython",
    "version": 3
   },
   "file_extension": ".py",
   "mimetype": "text/x-python",
   "name": "python",
   "nbconvert_exporter": "python",
   "pygments_lexer": "ipython3",
   "version": "3.8.10"
  }
 },
 "nbformat": 4,
 "nbformat_minor": 2
}
