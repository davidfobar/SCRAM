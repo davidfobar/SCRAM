{
 "cells": [
  {
   "cell_type": "code",
   "execution_count": 1,
   "metadata": {},
   "outputs": [],
   "source": [
    "import serial \n",
    "import struct\n",
    "import time\n",
    "\n",
    "RETURN_TEMP   = 0x01\n",
    "RETURN_SAMPLE = 0x02\n",
    "RETURN_HELLO  = 0x03\n",
    "SET_BIAS      = 0x04\n",
    "RETURN_BATT   = 0x05\n",
    "\n",
    "serialport = '/dev/ttyUSB0' #if using the dev board\n",
    "serialport = '/dev/ttyACM0' #if using the v0.1 board\n",
    "\n",
    "serialport = 'COM8'\n",
    "\n",
    "def getFloatValue(ser, cmd):\n",
    "    assert(cmd == RETURN_TEMP or cmd == RETURN_SAMPLE or cmd == RETURN_BATT)\n",
    "    ser.write(bytes([cmd, 0x00]))\n",
    "    data = ser.read(4)\n",
    "    return struct.unpack('>i', data)[0]/100\n",
    "\n",
    "def testConnection(ser):\n",
    "    ser.write(bytes([RETURN_HELLO, 0x00]))\n",
    "    data = ser.read(8)\n",
    "    return data.strip().decode('utf-8') \n",
    "\n",
    "def setBias(ser, bias):\n",
    "    assert(bias >= 0 and bias <= 255)\n",
    "    ser.write(bytes([SET_BIAS, bias]))\n",
    "    data = ser.read(8)\n",
    "    return data.strip().decode('utf-8') "
   ]
  },
  {
   "cell_type": "code",
   "execution_count": 2,
   "metadata": {},
   "outputs": [
    {
     "name": "stdout",
     "output_type": "stream",
     "text": [
      "\n"
     ]
    },
    {
     "ename": "error",
     "evalue": "unpack requires a buffer of 4 bytes",
     "output_type": "error",
     "traceback": [
      "\u001b[1;31m---------------------------------------------------------------------------\u001b[0m",
      "\u001b[1;31merror\u001b[0m                                     Traceback (most recent call last)",
      "\u001b[1;32mc:\\Users\\david.fobar\\Documents\\GitHub\\SCRAM\\detExp.ipynb Cell 2\u001b[0m line \u001b[0;36m6\n\u001b[0;32m      <a href='vscode-notebook-cell:/c%3A/Users/david.fobar/Documents/GitHub/SCRAM/detExp.ipynb#W1sZmlsZQ%3D%3D?line=3'>4</a>\u001b[0m \u001b[39m#loop to get batt voltage with 100ms delay\u001b[39;00m\n\u001b[0;32m      <a href='vscode-notebook-cell:/c%3A/Users/david.fobar/Documents/GitHub/SCRAM/detExp.ipynb#W1sZmlsZQ%3D%3D?line=4'>5</a>\u001b[0m \u001b[39mfor\u001b[39;00m i \u001b[39min\u001b[39;00m \u001b[39mrange\u001b[39m(\u001b[39m10\u001b[39m):\n\u001b[1;32m----> <a href='vscode-notebook-cell:/c%3A/Users/david.fobar/Documents/GitHub/SCRAM/detExp.ipynb#W1sZmlsZQ%3D%3D?line=5'>6</a>\u001b[0m   \u001b[39mprint\u001b[39m(getFloatValue(ser, RETURN_BATT))\n\u001b[0;32m      <a href='vscode-notebook-cell:/c%3A/Users/david.fobar/Documents/GitHub/SCRAM/detExp.ipynb#W1sZmlsZQ%3D%3D?line=6'>7</a>\u001b[0m   time\u001b[39m.\u001b[39msleep(\u001b[39m0.1\u001b[39m)\n",
      "\u001b[1;32mc:\\Users\\david.fobar\\Documents\\GitHub\\SCRAM\\detExp.ipynb Cell 2\u001b[0m line \u001b[0;36m2\n\u001b[0;32m     <a href='vscode-notebook-cell:/c%3A/Users/david.fobar/Documents/GitHub/SCRAM/detExp.ipynb#W1sZmlsZQ%3D%3D?line=17'>18</a>\u001b[0m ser\u001b[39m.\u001b[39mwrite(\u001b[39mbytes\u001b[39m([cmd, \u001b[39m0x00\u001b[39m]))\n\u001b[0;32m     <a href='vscode-notebook-cell:/c%3A/Users/david.fobar/Documents/GitHub/SCRAM/detExp.ipynb#W1sZmlsZQ%3D%3D?line=18'>19</a>\u001b[0m data \u001b[39m=\u001b[39m ser\u001b[39m.\u001b[39mread(\u001b[39m4\u001b[39m)\n\u001b[1;32m---> <a href='vscode-notebook-cell:/c%3A/Users/david.fobar/Documents/GitHub/SCRAM/detExp.ipynb#W1sZmlsZQ%3D%3D?line=19'>20</a>\u001b[0m \u001b[39mreturn\u001b[39;00m struct\u001b[39m.\u001b[39;49munpack(\u001b[39m'\u001b[39;49m\u001b[39m>i\u001b[39;49m\u001b[39m'\u001b[39;49m, data)[\u001b[39m0\u001b[39m]\u001b[39m/\u001b[39m\u001b[39m100\u001b[39m\n",
      "\u001b[1;31merror\u001b[0m: unpack requires a buffer of 4 bytes"
     ]
    }
   ],
   "source": [
    "with serial.Serial(serialport, 115200, timeout=2) as ser:\n",
    "  print(testConnection(ser))\n",
    "\n",
    "  #loop to get batt voltage with 100ms delay\n",
    "  for i in range(10):\n",
    "    print(getFloatValue(ser, RETURN_BATT))\n",
    "    time.sleep(0.1)\n",
    "  "
   ]
  },
  {
   "cell_type": "code",
   "execution_count": 68,
   "metadata": {},
   "outputs": [
    {
     "name": "stdout",
     "output_type": "stream",
     "text": [
      "30.21\n",
      "OK\n",
      "85.56\n",
      "OK\n",
      "6.59\n"
     ]
    }
   ],
   "source": [
    "with serial.Serial(serialport, 115200, timeout=2) as ser:\n",
    "  #read the temperature, set the bias, and read the sipm, return bias to 0\n",
    "  print(getFloatValue(ser, RETURN_TEMP))\n",
    "  print(setBias(ser, 0x01))\n",
    "  print(getFloatValue(ser, RETURN_SAMPLE))\n",
    "  print(setBias(ser, 0))\n",
    "  print(getFloatValue(ser, RETURN_BATT))"
   ]
  }
 ],
 "metadata": {
  "kernelspec": {
   "display_name": "Python 3",
   "language": "python",
   "name": "python3"
  },
  "language_info": {
   "codemirror_mode": {
    "name": "ipython",
    "version": 3
   },
   "file_extension": ".py",
   "mimetype": "text/x-python",
   "name": "python",
   "nbconvert_exporter": "python",
   "pygments_lexer": "ipython3",
   "version": "3.10.12"
  }
 },
 "nbformat": 4,
 "nbformat_minor": 2
}
