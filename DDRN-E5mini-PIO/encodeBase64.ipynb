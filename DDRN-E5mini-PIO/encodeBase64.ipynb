{
 "cells": [
  {
   "cell_type": "code",
   "execution_count": 5,
   "metadata": {},
   "outputs": [
    {
     "name": "stdout",
     "output_type": "stream",
     "text": [
      "Encoded string: dGVzdA==\n"
     ]
    }
   ],
   "source": [
    "import base64 \n",
    "  \n",
    "sample_string = \"test\"\n",
    "def encode_string(sample_string):\n",
    "    sample_string_bytes = sample_string.encode(\"ascii\") \n",
    "    base64_bytes = base64.b64encode(sample_string_bytes) \n",
    "    base64_string = base64_bytes.decode(\"ascii\") \n",
    "    return base64_string\n",
    "  \n",
    "print(f\"Encoded string: {encode_string(sample_string)}\") \n"
   ]
  },
  {
   "cell_type": "code",
   "execution_count": 12,
   "metadata": {},
   "outputs": [
    {
     "ename": "UnicodeDecodeError",
     "evalue": "'ascii' codec can't decode byte 0xb8 in position 1: ordinal not in range(128)",
     "output_type": "error",
     "traceback": [
      "\u001b[0;31m---------------------------------------------------------------------------\u001b[0m",
      "\u001b[0;31mUnicodeDecodeError\u001b[0m                        Traceback (most recent call last)",
      "\u001b[1;32m/home/dave/Documents/PlatformIO/Projects/E5-I2C-test/encodeBase64.ipynb Cell 2\u001b[0m line \u001b[0;36m8\n\u001b[1;32m      <a href='vscode-notebook-cell:/home/dave/Documents/PlatformIO/Projects/E5-I2C-test/encodeBase64.ipynb#W1sZmlsZQ%3D%3D?line=4'>5</a>\u001b[0m     \u001b[39mreturn\u001b[39;00m sample_string\n\u001b[1;32m      <a href='vscode-notebook-cell:/home/dave/Documents/PlatformIO/Projects/E5-I2C-test/encodeBase64.ipynb#W1sZmlsZQ%3D%3D?line=6'>7</a>\u001b[0m base64_string \u001b[39m=\u001b[39m \u001b[39m\"\u001b[39m\u001b[39mG7gnjw==\u001b[39m\u001b[39m\"\u001b[39m\n\u001b[0;32m----> <a href='vscode-notebook-cell:/home/dave/Documents/PlatformIO/Projects/E5-I2C-test/encodeBase64.ipynb#W1sZmlsZQ%3D%3D?line=7'>8</a>\u001b[0m \u001b[39mprint\u001b[39m(\u001b[39mf\u001b[39m\u001b[39m\"\u001b[39m\u001b[39mDecoded string: \u001b[39m\u001b[39m{\u001b[39;00mdecode_base64_string(base64_string)\u001b[39m}\u001b[39;00m\u001b[39m\"\u001b[39m)\n",
      "\u001b[1;32m/home/dave/Documents/PlatformIO/Projects/E5-I2C-test/encodeBase64.ipynb Cell 2\u001b[0m line \u001b[0;36m4\n\u001b[1;32m      <a href='vscode-notebook-cell:/home/dave/Documents/PlatformIO/Projects/E5-I2C-test/encodeBase64.ipynb#W1sZmlsZQ%3D%3D?line=1'>2</a>\u001b[0m base64_bytes \u001b[39m=\u001b[39m base64_string\u001b[39m.\u001b[39mencode(\u001b[39m\"\u001b[39m\u001b[39mascii\u001b[39m\u001b[39m\"\u001b[39m)\n\u001b[1;32m      <a href='vscode-notebook-cell:/home/dave/Documents/PlatformIO/Projects/E5-I2C-test/encodeBase64.ipynb#W1sZmlsZQ%3D%3D?line=2'>3</a>\u001b[0m sample_string_bytes \u001b[39m=\u001b[39m base64\u001b[39m.\u001b[39mb64decode(base64_bytes)\n\u001b[0;32m----> <a href='vscode-notebook-cell:/home/dave/Documents/PlatformIO/Projects/E5-I2C-test/encodeBase64.ipynb#W1sZmlsZQ%3D%3D?line=3'>4</a>\u001b[0m sample_string \u001b[39m=\u001b[39m sample_string_bytes\u001b[39m.\u001b[39;49mdecode(\u001b[39m\"\u001b[39;49m\u001b[39mascii\u001b[39;49m\u001b[39m\"\u001b[39;49m)\n\u001b[1;32m      <a href='vscode-notebook-cell:/home/dave/Documents/PlatformIO/Projects/E5-I2C-test/encodeBase64.ipynb#W1sZmlsZQ%3D%3D?line=4'>5</a>\u001b[0m \u001b[39mreturn\u001b[39;00m sample_string\n",
      "\u001b[0;31mUnicodeDecodeError\u001b[0m: 'ascii' codec can't decode byte 0xb8 in position 1: ordinal not in range(128)"
     ]
    }
   ],
   "source": [
    "def decode_base64_string(base64_string):\n",
    "    base64_bytes = base64_string.encode(\"ascii\")\n",
    "    sample_string_bytes = base64.b64decode(base64_bytes)\n",
    "    sample_string = sample_string_bytes.decode(\"ascii\")\n",
    "    return sample_string\n",
    "\n",
    "base64_string = \"G7gnjw==\"\n",
    "print(f\"Decoded string: {decode_base64_string(base64_string)}\")"
   ]
  }
 ],
 "metadata": {
  "kernelspec": {
   "display_name": "Python 3",
   "language": "python",
   "name": "python3"
  },
  "language_info": {
   "codemirror_mode": {
    "name": "ipython",
    "version": 3
   },
   "file_extension": ".py",
   "mimetype": "text/x-python",
   "name": "python",
   "nbconvert_exporter": "python",
   "pygments_lexer": "ipython3",
   "version": "3.10.12"
  }
 },
 "nbformat": 4,
 "nbformat_minor": 2
}
